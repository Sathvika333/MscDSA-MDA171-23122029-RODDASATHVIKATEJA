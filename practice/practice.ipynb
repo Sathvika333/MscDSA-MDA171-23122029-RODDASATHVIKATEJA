{
 "cells": [
  {
   "cell_type": "code",
   "execution_count": 1,
   "metadata": {},
   "outputs": [
    {
     "name": "stdout",
     "output_type": "stream",
     "text": [
      "<class 'int'>\n"
     ]
    }
   ],
   "source": [
    "a=9\n",
    "print(type(a))"
   ]
  },
  {
   "cell_type": "markdown",
   "metadata": {},
   "source": [
    "myVariableOne=12            \n",
    "#camelcase=each word except the first starts with a capital letter\n",
    "\n",
    "\n",
    "Pascal Case\n",
    "Each word starts with a capital letter:\n",
    "MyVariableName = \"John\"\n",
    "\n",
    "Snake Case\n",
    "Each word is separated by an underscore character:\n",
    "my_variable_name = \"John\""
   ]
  },
  {
   "cell_type": "code",
   "execution_count": 2,
   "metadata": {},
   "outputs": [
    {
     "name": "stdout",
     "output_type": "stream",
     "text": [
      "['bat', 'ball', 'cat']\n"
     ]
    }
   ],
   "source": [
    "list1=['bat','ball','cat']\n",
    "a,b,c=list1\n",
    "print(list1)"
   ]
  },
  {
   "cell_type": "code",
   "execution_count": 3,
   "metadata": {},
   "outputs": [
    {
     "name": "stdout",
     "output_type": "stream",
     "text": [
      "Python is awesome\n"
     ]
    }
   ],
   "source": [
    "x = \"Python \"\n",
    "y = \"is \"\n",
    "z = \"awesome\"\n",
    "print(x + y + z)"
   ]
  },
  {
   "cell_type": "code",
   "execution_count": 4,
   "metadata": {},
   "outputs": [
    {
     "name": "stdout",
     "output_type": "stream",
     "text": [
      "5 teju\n"
     ]
    }
   ],
   "source": [
    "x=5\n",
    "y=\"teju\"\n",
    "print(x,y)\n"
   ]
  },
  {
   "cell_type": "code",
   "execution_count": 5,
   "metadata": {},
   "outputs": [
    {
     "name": "stdout",
     "output_type": "stream",
     "text": [
      "this is my practice\n",
      "\n",
      " you will do it better\n"
     ]
    }
   ],
   "source": [
    "print(\"this is my practice\")\n",
    "print(\"\\n you will do it better\")\n"
   ]
  },
  {
   "cell_type": "code",
   "execution_count": 2,
   "metadata": {},
   "outputs": [
    {
     "name": "stdout",
     "output_type": "stream",
     "text": [
      "1\n",
      "<class 'str'>\n"
     ]
    }
   ],
   "source": [
    "a=str(1)\n",
    "print(a)\n",
    "print(type(a))\n"
   ]
  },
  {
   "cell_type": "code",
   "execution_count": 10,
   "metadata": {},
   "outputs": [
    {
     "name": "stdout",
     "output_type": "stream",
     "text": [
      "l\n"
     ]
    }
   ],
   "source": [
    "b = \"hello shravs\"\n",
    "print(b[2])"
   ]
  },
  {
   "cell_type": "code",
   "execution_count": 14,
   "metadata": {},
   "outputs": [
    {
     "name": "stdout",
     "output_type": "stream",
     "text": [
      "h\n",
      "e\n",
      "l\n",
      "l\n",
      "o\n",
      " \n",
      "s\n",
      "h\n",
      "r\n",
      "a\n",
      "v\n",
      "s\n"
     ]
    }
   ],
   "source": [
    "for i in b:\n",
    "    print(i)"
   ]
  },
  {
   "cell_type": "code",
   "execution_count": 16,
   "metadata": {},
   "outputs": [
    {
     "name": "stdout",
     "output_type": "stream",
     "text": [
      "True\n",
      "True\n"
     ]
    }
   ],
   "source": [
    "txt = \"  The best things in life are free!\"\n",
    "print(\"free\" in txt)\n",
    "print(\"expensive\" not in txt)"
   ]
  },
  {
   "cell_type": "code",
   "execution_count": 44,
   "metadata": {},
   "outputs": [
    {
     "name": "stdout",
     "output_type": "stream",
     "text": [
      "Th\n",
      "e best things in life are free!\n",
      "The b\n",
      " fr\n",
      "THE BEST THINGS IN LIFE ARE FREE!\n",
      "the best things in life are free!\n",
      "The best things in life are free!\n",
      "The worst things in life are free!\n",
      "['The', 'best', 'things', 'in', 'life', 'are', 'free!']\n",
      "<built-in method removeprefix of str object at 0x000001E951EAA8B0>\n",
      "The best things in life are free!\n",
      "hey \n",
      " i am sathvika\n"
     ]
    }
   ],
   "source": [
    " #slicing strings\n",
    "print(txt[0:2])\n",
    "print(txt[2:])\n",
    "print(txt[:5])\n",
    "print(txt[-6:-3])\n",
    "\n",
    "#lower and uppercase\n",
    "print(txt.upper())\n",
    "print(txt.lower())\n",
    "\n",
    "#removing spaces in the beginning or end\n",
    "print(txt.strip())\n",
    "\n",
    "#replacing the words\n",
    "print(txt.replace(\"best\",\"worst\"))\n",
    "\n",
    "#splitting the strings\n",
    "print(txt.split())\n",
    "\n",
    "print(txt.removeprefix)\n",
    "print(txt)\n",
    "\n",
    "\n",
    "add=10\n",
    "string=\"yes you are {}\"\n",
    "string.format(add)\n",
    "\n",
    "print(\"hey \\n i am sathvika\")\n",
    "\n",
    "\n",
    "\n"
   ]
  },
  {
   "cell_type": "code",
   "execution_count": 2,
   "metadata": {},
   "outputs": [
    {
     "name": "stdout",
     "output_type": "stream",
     "text": [
      "[1, 2, [1, 2, 3, 4, 5]]\n"
     ]
    }
   ],
   "source": [
    "list1=[1,2,[1,2,3,4,5]]\n",
    "print(list1)"
   ]
  },
  {
   "cell_type": "code",
   "execution_count": 5,
   "metadata": {},
   "outputs": [
    {
     "name": "stdout",
     "output_type": "stream",
     "text": [
      "[[[[1 2]\n",
      "   [2 5]\n",
      "   [3 5]]]]\n",
      "(1, 1, 3, 2)\n"
     ]
    }
   ],
   "source": [
    "import numpy as np\n",
    "\n",
    "lst=np.array([[[[1,2],[2,5],[3,5]]]])\n",
    "print(lst)\n",
    "\n",
    "print(lst.shape)"
   ]
  },
  {
   "cell_type": "code",
   "execution_count": null,
   "metadata": {},
   "outputs": [],
   "source": []
  }
 ],
 "metadata": {
  "kernelspec": {
   "display_name": "Python 3",
   "language": "python",
   "name": "python3"
  },
  "language_info": {
   "codemirror_mode": {
    "name": "ipython",
    "version": 3
   },
   "file_extension": ".py",
   "mimetype": "text/x-python",
   "name": "python",
   "nbconvert_exporter": "python",
   "pygments_lexer": "ipython3",
   "version": "3.11.5"
  }
 },
 "nbformat": 4,
 "nbformat_minor": 2
}
