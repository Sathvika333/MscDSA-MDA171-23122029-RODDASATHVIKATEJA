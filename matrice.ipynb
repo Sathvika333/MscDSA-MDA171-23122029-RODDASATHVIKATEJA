{
 "cells": [
  {
   "cell_type": "code",
   "execution_count": 8,
   "metadata": {},
   "outputs": [
    {
     "name": "stdout",
     "output_type": "stream",
     "text": [
      "[23, 24, 36]\n",
      "[51, 48, 70]\n",
      "[93, 84, 121]\n"
     ]
    }
   ],
   "source": [
    "m1=[[1,2,3],[3,4,5],[6,7,8]]\n",
    "m2=[[7,5,6],[5,2,3],[2,5,8]]\n",
    "result=[[0,0,0],[0,0,0],[0,0,0]]\n",
    "for i in range(len(m1)):\n",
    "   # iterate through columns of Y\n",
    "   for j in range(len(m2[0])):\n",
    "       # iterate through rows of Y\n",
    "       for k in range(len(m2)):\n",
    "           result[i][j] += m1[i][k] * m2[k][j]\n",
    "\n",
    "for r in result:\n",
    "   print(r)\n",
    "   \n",
    " \n"
   ]
  },
  {
   "cell_type": "code",
   "execution_count": null,
   "metadata": {},
   "outputs": [],
   "source": []
  }
 ],
 "metadata": {
  "kernelspec": {
   "display_name": "Python 3",
   "language": "python",
   "name": "python3"
  },
  "language_info": {
   "codemirror_mode": {
    "name": "ipython",
    "version": 3
   },
   "file_extension": ".py",
   "mimetype": "text/x-python",
   "name": "python",
   "nbconvert_exporter": "python",
   "pygments_lexer": "ipython3",
   "version": "3.11.5"
  },
  "orig_nbformat": 4
 },
 "nbformat": 4,
 "nbformat_minor": 2
}
