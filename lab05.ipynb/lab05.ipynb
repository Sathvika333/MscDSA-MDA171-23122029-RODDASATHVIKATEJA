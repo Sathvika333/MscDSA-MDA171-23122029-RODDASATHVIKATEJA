{
 "cells": [
  {
   "cell_type": "markdown",
   "metadata": {},
   "source": [
    "**mix match calculator**"
   ]
  },
  {
   "cell_type": "code",
   "execution_count": 2,
   "metadata": {},
   "outputs": [
    {
     "ename": "NameError",
     "evalue": "name 'csv' is not defined",
     "output_type": "error",
     "traceback": [
      "\u001b[1;31m---------------------------------------------------------------------------\u001b[0m",
      "\u001b[1;31mNameError\u001b[0m                                 Traceback (most recent call last)",
      "Cell \u001b[1;32mIn[2], line 14\u001b[0m\n\u001b[0;32m     11\u001b[0m csv_data\u001b[39m.\u001b[39mappend([Item,quantity, price])\n\u001b[0;32m     13\u001b[0m \u001b[39mwith\u001b[39;00m \u001b[39mopen\u001b[39m(\u001b[39m'\u001b[39m\u001b[39m23122029.csv\u001b[39m\u001b[39m'\u001b[39m, \u001b[39m'\u001b[39m\u001b[39mw\u001b[39m\u001b[39m'\u001b[39m, newline\u001b[39m=\u001b[39m\u001b[39m'\u001b[39m\u001b[39m'\u001b[39m) \u001b[39mas\u001b[39;00m csvfile:\n\u001b[1;32m---> 14\u001b[0m     csv_writer \u001b[39m=\u001b[39m csv\u001b[39m.\u001b[39mwriter(csvfile)\n\u001b[0;32m     15\u001b[0m     csv_writer\u001b[39m.\u001b[39mwriterow([\u001b[39m\"\u001b[39m\u001b[39mItem\u001b[39m\u001b[39m\"\u001b[39m,\u001b[39m\"\u001b[39m\u001b[39mQuantity\u001b[39m\u001b[39m\"\u001b[39m, \u001b[39m\"\u001b[39m\u001b[39mUnitPrice\u001b[39m\u001b[39m\"\u001b[39m])  \n\u001b[0;32m     16\u001b[0m     csv_writer\u001b[39m.\u001b[39mwriterows(csv_data)\n",
      "\u001b[1;31mNameError\u001b[0m: name 'csv' is not defined"
     ]
    }
   ],
   "source": [
    "Item=[\"munch\",\"perk\",\"dairymilk\",\"lays\",\"kurkure\",\"tang\",\"maaza\",\"sprite\",\"oreo\",\"goodday\"]\n",
    "quantity=[15,10,18,12,15,25,250,500,200,250]\n",
    "price=[5,10,20,5,10,5,28,42,15,20]\n",
    "csv_data=[]\n",
    "for _ in range(100):\n",
    "    import random \n",
    "r1 = random.randint(0,10) \n",
    "items = Item[r1]\n",
    "quantities = quantity[r1]\n",
    "prices = price[r1]\n",
    "csv_data.append([Item,quantity, price])\n",
    "\n",
    "with open('23122029.csv', 'w', newline='') as csvfile:\n",
    "    csv_writer = csv.writer(csvfile)\n",
    "    csv_writer.writerow([\"Item\",\"Quantity\", \"UnitPrice\"])  \n",
    "    csv_writer.writerows(csv_data)\n",
    "    \n",
    " \n",
    "        \n",
    "\n"
   ]
  }
 ],
 "metadata": {
  "kernelspec": {
   "display_name": "Python 3",
   "language": "python",
   "name": "python3"
  },
  "language_info": {
   "codemirror_mode": {
    "name": "ipython",
    "version": 3
   },
   "file_extension": ".py",
   "mimetype": "text/x-python",
   "name": "python",
   "nbconvert_exporter": "python",
   "pygments_lexer": "ipython3",
   "version": "3.11.2"
  },
  "orig_nbformat": 4
 },
 "nbformat": 4,
 "nbformat_minor": 2
}
