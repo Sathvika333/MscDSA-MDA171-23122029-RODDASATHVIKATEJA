{
 "cells": [
  {
   "cell_type": "code",
   "execution_count": 35,
   "metadata": {},
   "outputs": [],
   "source": [
    "list01=[]"
   ]
  },
  {
   "cell_type": "code",
   "execution_count": 38,
   "metadata": {},
   "outputs": [],
   "source": [
    "def new_func():\n",
    "    def fName():\n",
    "       name=input(\"enter the name:\")\n",
    "       name = name.upper()\n",
    "       if name == \"q\":\n",
    "           return 0             #returns null value\n",
    "       elif name in list01:\n",
    "           print(\"name exists\")\n",
    "       else:\n",
    "           list01.append(name)\n",
    "    print(list01)\n",
    "    list01.sort()\n",
    "    print(list01)\n",
    "    return new_func()\n"
   ]
  },
  {
   "cell_type": "code",
   "execution_count": null,
   "metadata": {},
   "outputs": [],
   "source": []
  },
  {
   "cell_type": "code",
   "execution_count": null,
   "metadata": {},
   "outputs": [],
   "source": []
  }
 ],
 "metadata": {
  "kernelspec": {
   "display_name": "Python 3",
   "language": "python",
   "name": "python3"
  },
  "language_info": {
   "codemirror_mode": {
    "name": "ipython",
    "version": 3
   },
   "file_extension": ".py",
   "mimetype": "text/x-python",
   "name": "python",
   "nbconvert_exporter": "python",
   "pygments_lexer": "ipython3",
   "version": "3.11.5"
  },
  "orig_nbformat": 4
 },
 "nbformat": 4,
 "nbformat_minor": 2
}
