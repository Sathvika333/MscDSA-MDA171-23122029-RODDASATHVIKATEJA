{
 "cells": [
  {
   "cell_type": "code",
   "execution_count": 17,
   "metadata": {},
   "outputs": [],
   "source": [
    "~list01=[]"
   ]
  },
  {
   "cell_type": "code",
   "execution_count": 27,
   "metadata": {},
   "outputs": [
    {
     "name": "stdout",
     "output_type": "stream",
     "text": [
      "['DOREMON', 'HEMA', 'SAI', 'SATHVIIKA', 'SRAVANI', 'TEJU']\n",
      "['DOREMON', 'HEMA', 'SAI', 'SATHVIIKA', 'SRAVANI', 'TEJU']\n"
     ]
    }
   ],
   "source": [
    "def fName():\n",
    "    name=input(\"enter the name:\")\n",
    "    name = name.upper()\n",
    "    if name == \"q\":\n",
    "       return 0\n",
    "    elif name in list01:\n",
    "       print(\"name exists\")\n",
    "    else:\n",
    "       list01.append(name)\n",
    "    fName()\n",
    "print(list01)\n",
    "list01.sort()\n",
    "print(list01)\n"
   ]
  }
 ],
 "metadata": {
  "kernelspec": {
   "display_name": "Python 3",
   "language": "python",
   "name": "python3"
  },
  "language_info": {
   "codemirror_mode": {
    "name": "ipython",
    "version": 3
   },
   "file_extension": ".py",
   "mimetype": "text/x-python",
   "name": "python",
   "nbconvert_exporter": "python",
   "pygments_lexer": "ipython3",
   "version": "3.11.2"
  },
  "orig_nbformat": 4
 },
 "nbformat": 4,
 "nbformat_minor": 2
}
