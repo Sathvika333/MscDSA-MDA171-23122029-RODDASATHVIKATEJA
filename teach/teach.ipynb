{
 "cells": [
  {
   "cell_type": "code",
   "execution_count": 5,
   "metadata": {},
   "outputs": [
    {
     "name": "stdout",
     "output_type": "stream",
     "text": [
      "sidhu\n",
      "17\n"
     ]
    }
   ],
   "source": [
    "class Student:\n",
    "    def __init__(self,name,age,uid):\n",
    "        self.name =name\n",
    "        self.age =age\n",
    "        self.uid = uid\n",
    "\n",
    "stud1= Student(\"sidhu\",17,53202)\n",
    "\n",
    "print(stud1.name)\n",
    "print(stud1.age)"
   ]
  },
  {
   "cell_type": "markdown",
   "metadata": {},
   "source": [
    "define a class expense tracker that stores the expenses and income in a dictionary\n",
    "implement the method to:\n",
    "store the transaction\n",
    "view transaction\n",
    "calculated the total expense/income"
   ]
  },
  {
   "cell_type": "code",
   "execution_count": 1,
   "metadata": {},
   "outputs": [
    {
     "ename": "AttributeError",
     "evalue": "'str' object has no attribute 'dict'",
     "output_type": "error",
     "traceback": [
      "\u001b[1;31m---------------------------------------------------------------------------\u001b[0m",
      "\u001b[1;31mAttributeError\u001b[0m                            Traceback (most recent call last)",
      "\u001b[1;32mc:\\python git\\MscDSA-MDA171-23122029-RODDASATHVIKATEJA-1\\teach\\teach.ipynb Cell 3\u001b[0m line \u001b[0;36m1\n\u001b[1;32m----> <a href='vscode-notebook-cell:/c%3A/python%20git/MscDSA-MDA171-23122029-RODDASATHVIKATEJA-1/teach/teach.ipynb#W2sZmlsZQ%3D%3D?line=0'>1</a>\u001b[0m \u001b[39mclass\u001b[39;49;00m \u001b[39mexpenseTracker\u001b[39;49;00m:\n\u001b[0;32m      <a href='vscode-notebook-cell:/c%3A/python%20git/MscDSA-MDA171-23122029-RODDASATHVIKATEJA-1/teach/teach.ipynb#W2sZmlsZQ%3D%3D?line=1'>2</a>\u001b[0m     \u001b[39mdef\u001b[39;49;00m \u001b[39m__init__\u001b[39;49m(\u001b[39mself\u001b[39;49m):\n\u001b[0;32m      <a href='vscode-notebook-cell:/c%3A/python%20git/MscDSA-MDA171-23122029-RODDASATHVIKATEJA-1/teach/teach.ipynb#W2sZmlsZQ%3D%3D?line=2'>3</a>\u001b[0m         \u001b[39mself\u001b[39;49m\u001b[39m.\u001b[39;49mdict\u001b[39m=\u001b[39;49m{\u001b[39m\"\u001b[39;49m\u001b[39mexpense\u001b[39;49m\u001b[39m\"\u001b[39;49m:[],\u001b[39m\"\u001b[39;49m\u001b[39mincome\u001b[39;49m\u001b[39m\"\u001b[39;49m:[]}\n",
      "\u001b[1;32mc:\\python git\\MscDSA-MDA171-23122029-RODDASATHVIKATEJA-1\\teach\\teach.ipynb Cell 3\u001b[0m line \u001b[0;36m2\n\u001b[0;32m     <a href='vscode-notebook-cell:/c%3A/python%20git/MscDSA-MDA171-23122029-RODDASATHVIKATEJA-1/teach/teach.ipynb#W2sZmlsZQ%3D%3D?line=22'>23</a>\u001b[0m     \u001b[39mprint\u001b[39m(\u001b[39m\"\u001b[39m\u001b[39mtotal expense:\u001b[39m\u001b[39m\"\u001b[39m\u001b[39m+\u001b[39mexpense_total)\n\u001b[0;32m     <a href='vscode-notebook-cell:/c%3A/python%20git/MscDSA-MDA171-23122029-RODDASATHVIKATEJA-1/teach/teach.ipynb#W2sZmlsZQ%3D%3D?line=23'>24</a>\u001b[0m     \u001b[39mprint\u001b[39m(\u001b[39m\"\u001b[39m\u001b[39mtotal income:\u001b[39m\u001b[39m\"\u001b[39m\u001b[39m+\u001b[39mincome_total)\n\u001b[1;32m---> <a href='vscode-notebook-cell:/c%3A/python%20git/MscDSA-MDA171-23122029-RODDASATHVIKATEJA-1/teach/teach.ipynb#W2sZmlsZQ%3D%3D?line=25'>26</a>\u001b[0m store\u001b[39m=\u001b[39mstore_trans(\u001b[39m\"\u001b[39;49m\u001b[39ma\u001b[39;49m\u001b[39m\"\u001b[39;49m,\u001b[39m\"\u001b[39;49m\u001b[39mincome\u001b[39;49m\u001b[39m\"\u001b[39;49m,\u001b[39m5000\u001b[39;49m,\u001b[39m\"\u001b[39;49m\u001b[39msravani\u001b[39;49m\u001b[39m\"\u001b[39;49m,\u001b[39m13354\u001b[39;49m,\u001b[39m\"\u001b[39;49m\u001b[39m9 oct\u001b[39;49m\u001b[39m\"\u001b[39;49m)\n\u001b[0;32m     <a href='vscode-notebook-cell:/c%3A/python%20git/MscDSA-MDA171-23122029-RODDASATHVIKATEJA-1/teach/teach.ipynb#W2sZmlsZQ%3D%3D?line=26'>27</a>\u001b[0m view\u001b[39m=\u001b[39mview_trans()\n\u001b[0;32m     <a href='vscode-notebook-cell:/c%3A/python%20git/MscDSA-MDA171-23122029-RODDASATHVIKATEJA-1/teach/teach.ipynb#W2sZmlsZQ%3D%3D?line=27'>28</a>\u001b[0m totalexpense\u001b[39m=\u001b[39mtotal()\n",
      "\u001b[1;32mc:\\python git\\MscDSA-MDA171-23122029-RODDASATHVIKATEJA-1\\teach\\teach.ipynb Cell 3\u001b[0m line \u001b[0;36m1\n\u001b[0;32m      <a href='vscode-notebook-cell:/c%3A/python%20git/MscDSA-MDA171-23122029-RODDASATHVIKATEJA-1/teach/teach.ipynb#W2sZmlsZQ%3D%3D?line=7'>8</a>\u001b[0m     \u001b[39mself\u001b[39m\u001b[39m.\u001b[39mdict[\u001b[39m\"\u001b[39m\u001b[39mexpense\u001b[39m\u001b[39m\"\u001b[39m]\u001b[39m.\u001b[39mappend(trans)\n\u001b[0;32m      <a href='vscode-notebook-cell:/c%3A/python%20git/MscDSA-MDA171-23122029-RODDASATHVIKATEJA-1/teach/teach.ipynb#W2sZmlsZQ%3D%3D?line=8'>9</a>\u001b[0m \u001b[39melse\u001b[39;00m:\n\u001b[1;32m---> <a href='vscode-notebook-cell:/c%3A/python%20git/MscDSA-MDA171-23122029-RODDASATHVIKATEJA-1/teach/teach.ipynb#W2sZmlsZQ%3D%3D?line=9'>10</a>\u001b[0m     \u001b[39mself\u001b[39;49m\u001b[39m.\u001b[39;49mdict[\u001b[39m\"\u001b[39m\u001b[39mincome\u001b[39m\u001b[39m\"\u001b[39m]\u001b[39m.\u001b[39mappend(trans)\n",
      "\u001b[1;31mAttributeError\u001b[0m: 'str' object has no attribute 'dict'"
     ]
    }
   ],
   "source": [
    "class expenseTracker:\n",
    "    def __init__(self):\n",
    "        self.dict={\"expense\":[],\"income\":[]}\n",
    "\n",
    "    def store_trans(self,type,amount,name,transid,date):\n",
    "        trans={\"name\":name,\"amount\":amount,\"transid\":transid,\"date\":date}\n",
    "        if type == \"expense\":\n",
    "            self.dict[\"expense\"].append(trans)\n",
    "        else:\n",
    "            self.dict[\"income\"].append(trans)\n",
    "\n",
    "    def view_trans(self):\n",
    "        print(\"your income\")\n",
    "        for item in self.dict[\"expense\"]:\n",
    "            print(item)\n",
    "        for item in self.dict[\"income\"]:\n",
    "            print(item)\n",
    "\n",
    "    def total(self):\n",
    "        expense_total=sum(item[\"amount\"] for item in self.dict[\"expense\"])\n",
    "        income_total=sum(item[\"amount\"] for item in self.dict[\"income\"])\n",
    "\n",
    "        print(\"total expense:\"+expense_total)\n",
    "        print(\"total income:\"+income_total)\n",
    "    \n",
    "    \n",
    "    store=store_trans(\"a\",\"income\",5000,\"sravani\",13354,\"9 oct\")\n",
    "    view=view_trans(store)\n",
    "    totalexpense=total()\n",
    "\n",
    "\n"
   ]
  },
  {
   "cell_type": "code",
   "execution_count": 15,
   "metadata": {},
   "outputs": [],
   "source": [
    "a=[1,\"abc\",2,3,4,5,6]\n",
    "for i in a:\n",
    "    if i== 7:\n",
    "        print(i)"
   ]
  },
  {
   "cell_type": "code",
   "execution_count": null,
   "metadata": {},
   "outputs": [],
   "source": [
    "\n",
    "\n"
   ]
  }
 ],
 "metadata": {
  "kernelspec": {
   "display_name": "Python 3",
   "language": "python",
   "name": "python3"
  },
  "language_info": {
   "codemirror_mode": {
    "name": "ipython",
    "version": 3
   },
   "file_extension": ".py",
   "mimetype": "text/x-python",
   "name": "python",
   "nbconvert_exporter": "python",
   "pygments_lexer": "ipython3",
   "version": "3.11.5"
  }
 },
 "nbformat": 4,
 "nbformat_minor": 2
}
