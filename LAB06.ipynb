{
 "cells": [
  {
   "cell_type": "markdown",
   "metadata": {},
   "source": [
    "**LAB06-VOWEL COUNTER**"
   ]
  },
  {
   "cell_type": "code",
   "execution_count": 48,
   "metadata": {},
   "outputs": [],
   "source": [
    "\n",
    "def vowel():\n",
    "    str1 = input(\"enter the string:\")\n",
    "    r=str1.lower()\n",
    "    print(r)\n",
    "    counta = 0\n",
    "    counte = 0\n",
    "    counti = 0\n",
    "    counto = 0\n",
    "    countu = 0\n",
    "    for i in r:\n",
    "        if i==\"a\":\n",
    "            counta +=1\n",
    "        elif i==\"e\":\n",
    "            counte +=1\n",
    "        elif i==\"i\":\n",
    "            counti +=1\n",
    "        elif i==\"o\":\n",
    "            counto +=1\n",
    "        elif i==\"u\":\n",
    "            countu +=1\n",
    "        else:\n",
    "            pass\n",
    "    t=counta+counte+counti+counto+countu\n",
    "    print(t)\n",
    "    print(\"count of a\",counta)\n",
    "    print(\"count of e\",counte)\n",
    "    print(\"count of i\",counti)\n",
    "    print(\"count of o\",counto)\n",
    "    print(\"count of u\",countu)\n",
    "    n=len(r)\n",
    "    prcnt=(t/n)*100\n",
    "    print(prcnt)\n",
    "\n",
    "\n",
    "\n",
    "    \n",
    "                \n",
    "\n",
    "\n",
    "\n",
    "\n",
    "\n",
    "    \n",
    "\n"
   ]
  },
  {
   "cell_type": "code",
   "execution_count": 49,
   "metadata": {},
   "outputs": [
    {
     "name": "stdout",
     "output_type": "stream",
     "text": [
      "this is sathvika helloo\n",
      "8\n",
      "count of a 2\n",
      "count of e 1\n",
      "count of i 3\n",
      "count of o 2\n",
      "count of u 0\n",
      "34.78260869565217\n"
     ]
    }
   ],
   "source": [
    "vowel"
   ]
  }
 ],
 "metadata": {
  "kernelspec": {
   "display_name": "Python 3",
   "language": "python",
   "name": "python3"
  },
  "language_info": {
   "codemirror_mode": {
    "name": "ipython",
    "version": 3
   },
   "file_extension": ".py",
   "mimetype": "text/x-python",
   "name": "python",
   "nbconvert_exporter": "python",
   "pygments_lexer": "ipython3",
   "version": "3.11.5"
  },
  "orig_nbformat": 4
 },
 "nbformat": 4,
 "nbformat_minor": 2
}
