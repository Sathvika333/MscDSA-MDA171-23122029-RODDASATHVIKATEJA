{
 "cells": [
  {
   "cell_type": "code",
   "execution_count": 3,
   "metadata": {},
   "outputs": [
    {
     "name": "stdout",
     "output_type": "stream",
     "text": [
      "1\n",
      "2\n",
      "3\n",
      "4\n",
      "5\n",
      "6\n",
      "7\n",
      "8\n",
      "9\n",
      "10\n"
     ]
    }
   ],
   "source": [
    "i = 1\n",
    "while i<11:\n",
    "    print(i)\n",
    "    i+=1"
   ]
  },
  {
   "cell_type": "code",
   "execution_count": 13,
   "metadata": {},
   "outputs": [
    {
     "name": "stdout",
     "output_type": "stream",
     "text": [
      "5050\n"
     ]
    }
   ],
   "source": [
    "sum2 = 0\n",
    "for i in range(1,101):\n",
    "    sum2+=i\n",
    "print(sum2)\n",
    "    "
   ]
  },
  {
   "cell_type": "code",
   "execution_count": 14,
   "metadata": {},
   "outputs": [
    {
     "name": "stdout",
     "output_type": "stream",
     "text": [
      "{'alice': 88, 'bob': 95, 'carol': 90}\n"
     ]
    }
   ],
   "source": [
    "student = {\"alice\":88,\"bob\":95,\"carol\":90}\n",
    "print(student)"
   ]
  },
  {
   "cell_type": "code",
   "execution_count": 21,
   "metadata": {},
   "outputs": [
    {
     "name": "stdout",
     "output_type": "stream",
     "text": [
      "[2]\n",
      "[2, 4]\n",
      "[2, 4, 6]\n",
      "[2, 4, 6, 8]\n",
      "[2, 4, 6, 8, 10]\n"
     ]
    }
   ],
   "source": [
    "list1=[1,2,3,4,5,6,7,8,9,10]\n",
    "evenlist=[]\n",
    "for i in list1:\n",
    "    if i%2==0:\n",
    "        evenlist.append(i)\n",
    "        print(evenlist)\n",
    "    "
   ]
  },
  {
   "cell_type": "code",
   "execution_count": 3,
   "metadata": {},
   "outputs": [
    {
     "name": "stdout",
     "output_type": "stream",
     "text": [
      "[23, 24, 36]\n",
      "[51, 48, 70]\n",
      "[93, 84, 121]\n"
     ]
    }
   ],
   "source": [
    "matrix1 = [[1,2,3],[3,4,5],[6,7,8]]\n",
    "matrix2 = [[7,5,6],[5,2,3],[2,5,8]]\n",
    "result= [[0,0,0],[0,0,0],[0,0,0]]\n",
    "for i in range(len(matrix1)):\n",
    "   # iterate through columns of Y\n",
    "   for j in range(len(matrix2[0])):\n",
    "       # iterate through rows of Y\n",
    "       for k in range(len(matrix2)):\n",
    "           result[i][j] += m1[i][k] * m2[k][j]\n",
    "\n",
    "for r in result:\n",
    "   print(r)\n",
    "   \n",
    " "
   ]
  }
 ],
 "metadata": {
  "kernelspec": {
   "display_name": "Python 3",
   "language": "python",
   "name": "python3"
  },
  "language_info": {
   "codemirror_mode": {
    "name": "ipython",
    "version": 3
   },
   "file_extension": ".py",
   "mimetype": "text/x-python",
   "name": "python",
   "nbconvert_exporter": "python",
   "pygments_lexer": "ipython3",
   "version": "3.11.5"
  },
  "orig_nbformat": 4
 },
 "nbformat": 4,
 "nbformat_minor": 2
}
