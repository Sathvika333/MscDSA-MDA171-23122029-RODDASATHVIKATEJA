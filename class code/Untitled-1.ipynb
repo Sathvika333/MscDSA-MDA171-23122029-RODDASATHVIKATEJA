{
 "cells": [
  {
   "cell_type": "markdown",
   "metadata": {},
   "source": [
    "**file handling**"
   ]
  },
  {
   "cell_type": "code",
   "execution_count": 35,
   "metadata": {},
   "outputs": [],
   "source": [
    "file = open(\"sample.txt\",\"w+\")  #opening the file and  writing"
   ]
  },
  {
   "cell_type": "code",
   "execution_count": 48,
   "metadata": {},
   "outputs": [],
   "source": [
    "file = open(\"sample.txt\",\"r+\")  #reading the file"
   ]
  },
  {
   "cell_type": "code",
   "execution_count": null,
   "metadata": {},
   "outputs": [],
   "source": [
    "file = open(\"sample.txt\",\"a+\") #append "
   ]
  },
  {
   "cell_type": "code",
   "execution_count": 49,
   "metadata": {},
   "outputs": [
    {
     "data": {
      "text/plain": [
       "61"
      ]
     },
     "execution_count": 49,
     "metadata": {},
     "output_type": "execute_result"
    }
   ],
   "source": [
    "file.write(\"\\nThis is my first line \\nin th file \\nbe happy \\n just like that\") #reading and writing"
   ]
  },
  {
   "cell_type": "code",
   "execution_count": 50,
   "metadata": {},
   "outputs": [],
   "source": [
    "file.close()   #saving the file\n"
   ]
  },
  {
   "cell_type": "code",
   "execution_count": 51,
   "metadata": {},
   "outputs": [],
   "source": [
    "file_read = open(\"sample.txt\",\"r+\")\n",
    "          #reads a line"
   ]
  },
  {
   "cell_type": "code",
   "execution_count": 52,
   "metadata": {},
   "outputs": [
    {
     "data": {
      "text/plain": [
       "'\\n'"
      ]
     },
     "execution_count": 52,
     "metadata": {},
     "output_type": "execute_result"
    }
   ],
   "source": [
    "file_read.readline()      "
   ]
  },
  {
   "cell_type": "code",
   "execution_count": 53,
   "metadata": {},
   "outputs": [
    {
     "data": {
      "text/plain": [
       "['This is my first line \\n', 'in th file \\n', 'be happy \\n', ' just like that']"
      ]
     },
     "execution_count": 53,
     "metadata": {},
     "output_type": "execute_result"
    }
   ],
   "source": [
    "file_read.readlines()  #reads all the lines"
   ]
  },
  {
   "cell_type": "code",
   "execution_count": null,
   "metadata": {},
   "outputs": [],
   "source": []
  },
  {
   "cell_type": "code",
   "execution_count": 6,
   "metadata": {},
   "outputs": [
    {
     "ename": "NameError",
     "evalue": "name 'writemydetails' is not defined",
     "output_type": "error",
     "traceback": [
      "\u001b[1;31m---------------------------------------------------------------------------\u001b[0m",
      "\u001b[1;31mNameError\u001b[0m                                 Traceback (most recent call last)",
      "Cell \u001b[1;32mIn[6], line 11\u001b[0m\n\u001b[0;32m      9\u001b[0m phno\u001b[39m=\u001b[39m\u001b[39minput\u001b[39m(\u001b[39m\"\u001b[39m\u001b[39menter your phone no:\u001b[39m\u001b[39m\"\u001b[39m)\n\u001b[0;32m     10\u001b[0m mailid\u001b[39m=\u001b[39m\u001b[39minput\u001b[39m(\u001b[39m\"\u001b[39m\u001b[39menter your mail:\u001b[39m\u001b[39m\"\u001b[39m)\n\u001b[1;32m---> 11\u001b[0m ret\u001b[39m=\u001b[39mwritemydetails(name,phone,details)\n\u001b[0;32m     12\u001b[0m \u001b[39mif\u001b[39;00m ret:\n\u001b[0;32m     13\u001b[0m     \u001b[39mprint\u001b[39m(\u001b[39m\"\u001b[39m\u001b[39myour details are saved!!!!\u001b[39m\u001b[39m\"\u001b[39m) \n",
      "\u001b[1;31mNameError\u001b[0m: name 'writemydetails' is not defined"
     ]
    }
   ],
   "source": [
    "def details(Name,phno,mailid):\n",
    "    fileMyDetails = open(name+\".txt\",\"w+\")       #Alwin.txt\n",
    "    fileMyDetails.write(\"Name\\t:\\t\"+name)\n",
    "    fileMyDetails.write(\"\\nphno\\t:\\t\"+phno)\n",
    "    fileMyDetails.write(\"\\nMailid\\t\",+mailid) \n",
    "    fileMyDetails.close()\n",
    "    return True\n",
    "name=input(\"enter your name:\")\n",
    "phno=input(\"enter your phone no:\")\n",
    "mailid=input(\"enter your mail:\")\n",
    "ret=writemydetails(name,phone,details)\n",
    "if ret:\n",
    "    print(\"your details are saved!!!!\") \n",
    "    print(\"*\"*30)\n",
    "    #for line in open(name+\".txt\",\"r+\") \n",
    "    #    print(line) \n",
    "    file = open(name+\".txt\",\"r+\")\n",
    "    file_lines = file.readlines()\n",
    "    for line in file_lines:\n",
    "    print(line)\n",
    "    print(\"*\"*30)\n",
    "else:\n",
    "    print(\"Some error occured..!\")"
   ]
  },
  {
   "cell_type": "code",
   "execution_count": 7,
   "metadata": {},
   "outputs": [
    {
     "ename": "IndentationError",
     "evalue": "expected an indented block after 'for' statement on line 19 (2897456547.py, line 20)",
     "output_type": "error",
     "traceback": [
      "\u001b[1;36m  Cell \u001b[1;32mIn[7], line 20\u001b[1;36m\u001b[0m\n\u001b[1;33m    print(line)\u001b[0m\n\u001b[1;37m    ^\u001b[0m\n\u001b[1;31mIndentationError\u001b[0m\u001b[1;31m:\u001b[0m expected an indented block after 'for' statement on line 19\n"
     ]
    }
   ],
   "source": [
    "def details(Name,phno,mailid):\n",
    "    fileMyDetails = open(name+\".txt\",\"w+\")       #Alwin.txt\n",
    "    fileMyDetails.write(\"Name\\t:\\t\"+name)\n",
    "    fileMyDetails.write(\"\\nphno\\t:\\t\"+phno)\n",
    "    fileMyDetails.write(\"\\nMailid\\t\",+mailid) \n",
    "    fileMyDetails.close()\n",
    "    return True\n",
    "name=input(\"enter your name:\")\n",
    "phno=input(\"enter your phone no:\")\n",
    "mailid=input(\"enter your mail:\")\n",
    "ret=writemydetails(name,phone,details)\n",
    "if ret:\n",
    "    print(\"your details are saved!!!!\") \n",
    "    print(\"*\"*30)\n",
    "    #for line in open(name+\".txt\",\"r+\") \n",
    "    #    print(line) \n",
    "    file = open(name+\".txt\",\"r+\")\n",
    "    file_lines = file.readlines()\n",
    "    for line in file_lines:\n",
    "        print(line)\n",
    "        print(\"*\"*30)\n",
    "else:\n",
    "    print(\"Some error occured..!\")"
   ]
  },
  {
   "cell_type": "code",
   "execution_count": 4,
   "metadata": {},
   "outputs": [],
   "source": [
    "with open(\"Myfile.txt\",\"w+\") as file:\n",
    "    file.write(\"you can do it\")"
   ]
  },
  {
   "cell_type": "code",
   "execution_count": 9,
   "metadata": {},
   "outputs": [],
   "source": [
    "with open(\"orders.txt\",\"a+\") as file:\n",
    "    itemname = input(\"item name\")\n",
    "    qty = input('quantity')\n",
    "    price = input(\"Price\")\n",
    "    str_to_save = itemname+\",\"+qty+\",\"+price+\"\\n\"\n",
    "    file.write(str_to_save)"
   ]
  },
  {
   "cell_type": "code",
   "execution_count": 11,
   "metadata": {},
   "outputs": [
    {
     "name": "stdout",
     "output_type": "stream",
     "text": [
      "['fried rice', '', '210']\n",
      "['idly', '', '100']\n"
     ]
    }
   ],
   "source": [
    "for line in open(\"orders.txt\").readlines():\n",
    "    orderDetails = line.strip().split(',')\n",
    "    print(orderDetails)"
   ]
  }
 ],
 "metadata": {
  "kernelspec": {
   "display_name": "Python 3",
   "language": "python",
   "name": "python3"
  },
  "language_info": {
   "codemirror_mode": {
    "name": "ipython",
    "version": 3
   },
   "file_extension": ".py",
   "mimetype": "text/x-python",
   "name": "python",
   "nbconvert_exporter": "python",
   "pygments_lexer": "ipython3",
   "version": "3.11.2"
  },
  "orig_nbformat": 4
 },
 "nbformat": 4,
 "nbformat_minor": 2
}
