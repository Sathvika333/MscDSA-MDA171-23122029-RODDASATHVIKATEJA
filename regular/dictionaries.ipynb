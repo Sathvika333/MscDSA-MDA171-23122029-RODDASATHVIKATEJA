{
 "cells": [
  {
   "cell_type": "markdown",
   "metadata": {},
   "source": [
    "dictionaries: collection of key values\n"
   ]
  },
  {
   "cell_type": "code",
   "execution_count": 10,
   "metadata": {},
   "outputs": [
    {
     "name": "stdout",
     "output_type": "stream",
     "text": [
      "10\n"
     ]
    }
   ],
   "source": [
    "my_dict = {\"name\":\"TEJU\",\n",
    "           \"age\":10,\n",
    "           \"BooleanVal\":True}\n",
    "print(my_dict[\"age\"])\n"
   ]
  },
  {
   "cell_type": "code",
   "execution_count": 11,
   "metadata": {},
   "outputs": [],
   "source": [
    "my_dict[\"BooleanVal\"] = False"
   ]
  },
  {
   "cell_type": "code",
   "execution_count": 12,
   "metadata": {},
   "outputs": [
    {
     "name": "stdout",
     "output_type": "stream",
     "text": [
      "{'name': 'TEJU', 'age': 10, 'BooleanVal': False}\n"
     ]
    }
   ],
   "source": [
    "print(my_dict)"
   ]
  },
  {
   "cell_type": "code",
   "execution_count": 13,
   "metadata": {},
   "outputs": [],
   "source": [
    "my_dict[\"phno\"] = 9515358738"
   ]
  },
  {
   "cell_type": "code",
   "execution_count": 14,
   "metadata": {},
   "outputs": [
    {
     "name": "stdout",
     "output_type": "stream",
     "text": [
      "{'name': 'TEJU', 'age': 10, 'BooleanVal': False, 'phno': 9515358738}\n"
     ]
    }
   ],
   "source": [
    "print(my_dict)"
   ]
  },
  {
   "cell_type": "code",
   "execution_count": 15,
   "metadata": {},
   "outputs": [
    {
     "data": {
      "text/plain": [
       "dict_values(['TEJU', 10, False, 9515358738])"
      ]
     },
     "execution_count": 15,
     "metadata": {},
     "output_type": "execute_result"
    }
   ],
   "source": [
    "my_dict.values()"
   ]
  },
  {
   "cell_type": "code",
   "execution_count": 16,
   "metadata": {},
   "outputs": [
    {
     "data": {
      "text/plain": [
       "dict_keys(['name', 'age', 'BooleanVal', 'phno'])"
      ]
     },
     "execution_count": 16,
     "metadata": {},
     "output_type": "execute_result"
    }
   ],
   "source": [
    "my_dict.keys()"
   ]
  },
  {
   "cell_type": "code",
   "execution_count": 17,
   "metadata": {},
   "outputs": [
    {
     "name": "stdout",
     "output_type": "stream",
     "text": [
      "dict_values(['TEJU', 10, False, 9515358738])\n",
      "name\n",
      "age\n",
      "BooleanVal\n",
      "phno\n"
     ]
    }
   ],
   "source": [
    "print(my_dict.values())\n",
    "for item in my_dict.keys():\n",
    "    print(item)"
   ]
  },
  {
   "cell_type": "code",
   "execution_count": 23,
   "metadata": {},
   "outputs": [
    {
     "name": "stdout",
     "output_type": "stream",
     "text": [
      "[{'name': 'sathvika', 'phno': '9515358738'}, {'name': 'teja', 'phno': '8790742059'}]\n"
     ]
    }
   ],
   "source": [
    "student = {\n",
    "    \"mscdsa\" : {\n",
    "        \"01\" : {\n",
    "            \"name\":\"sathvika\",\n",
    "            \"phno\":\"9515358738\"\n",
    "        },\n",
    "        \"02\" : {\n",
    "            \"name\":\"teja\",\n",
    "            \"phno\":\"8790742059\"\n",
    "        }\n",
    "    }\n",
    "\n",
    "}\n",
    "\n",
    "student =[\n",
    "    {\"name\" : \"sathvika\",\"phno\":\"9515358738\"},\n",
    "    {\"name\" :\"teja\",\"phno\":\"8790742059\"}\n",
    "]\n",
    "print(student)"
   ]
  },
  {
   "cell_type": "code",
   "execution_count": 30,
   "metadata": {},
   "outputs": [
    {
     "ename": "KeyError",
     "evalue": "'mscdsa'",
     "output_type": "error",
     "traceback": [
      "\u001b[1;31m---------------------------------------------------------------------------\u001b[0m",
      "\u001b[1;31mKeyError\u001b[0m                                  Traceback (most recent call last)",
      "\u001b[1;32mc:\\python git\\MscDSA-MDA171-23122029-RODDASATHVIKATEJA-1\\regular\\dictionaries.ipynb Cell 11\u001b[0m line \u001b[0;36m1\n\u001b[1;32m----> <a href='vscode-notebook-cell:/c%3A/python%20git/MscDSA-MDA171-23122029-RODDASATHVIKATEJA-1/regular/dictionaries.ipynb#X14sZmlsZQ%3D%3D?line=0'>1</a>\u001b[0m \u001b[39mprint\u001b[39m(student[\u001b[39m\"\u001b[39;49m\u001b[39mmscdsa\u001b[39;49m\u001b[39m\"\u001b[39;49m][\u001b[39m\"\u001b[39m\u001b[39m01\u001b[39m\u001b[39m\"\u001b[39m])\n",
      "\u001b[1;31mKeyError\u001b[0m: 'mscdsa'"
     ]
    }
   ],
   "source": [
    "print(student[\"mscdsa\"][\"01\"])"
   ]
  },
  {
   "cell_type": "code",
   "execution_count": 31,
   "metadata": {},
   "outputs": [
    {
     "name": "stdout",
     "output_type": "stream",
     "text": [
      "{'01': 23122029, 'name': 'sathvika', 'phno': '9515358738', 'mailid': 'sathvikarodda33@gmail.com'}\n",
      "23122029\tsathvika\t9515358738\tsathvikarodda33@gmail.com\t\n",
      "{'02': 23122030, 'name': 'teja', 'phno': '8790742059'}\n",
      "23122030\tteja\t8790742059\t\n"
     ]
    }
   ],
   "source": [
    "mscdsa = [\n",
    "        {\n",
    "        \"01\" : 23122029,\n",
    "        \"name\":\"sathvika\",\n",
    "        \"phno\":\"9515358738\",\n",
    "        \"mailid\": \"sathvikarodda33@gmail.com\",\n",
    "        },\n",
    "    {\n",
    "        \"02\" : 23122030,\n",
    "        \"name\":\"teja\",\n",
    "        \"phno\":\"8790742059\"\n",
    "    }\n",
    "]\n",
    "\n",
    "for student in mscdsa:\n",
    "    print(student)\n",
    "    for key in student.keys():\n",
    "        print(student[key],end=\"\\t\")\n",
    "    print()"
   ]
  },
  {
   "cell_type": "code",
   "execution_count": 3,
   "metadata": {},
   "outputs": [
    {
     "name": "stdout",
     "output_type": "stream",
     "text": [
      "******************************\n",
      "Name Management - application\n",
      "******************************\n",
      "******************************\n",
      "1.enter name:\n",
      "2.list the Names\n",
      "3.search for a name\n",
      "4.exit\n",
      "******************************\n",
      "your choice: 1\n",
      "name () added successfully : Sathvika\n",
      "******************************\n",
      "1.enter name:\n",
      "2.list the Names\n",
      "3.search for a name\n",
      "4.exit\n",
      "******************************\n",
      "your choice: 2\n",
      "******************************\n",
      "names in the list\n",
      "******************************\n",
      "Sathvika\n",
      "******************************\n",
      "******************************\n",
      "1.enter name:\n",
      "2.list the Names\n",
      "3.search for a name\n",
      "4.exit\n",
      "******************************\n",
      "your choice: 1\n",
      "name () added successfully : Teju\n",
      "******************************\n",
      "1.enter name:\n",
      "2.list the Names\n",
      "3.search for a name\n",
      "4.exit\n",
      "******************************\n",
      "your choice: 2\n",
      "******************************\n",
      "names in the list\n",
      "******************************\n",
      "Sathvika\n",
      "Teju\n",
      "******************************\n",
      "******************************\n",
      "1.enter name:\n",
      "2.list the Names\n",
      "3.search for a name\n",
      "4.exit\n",
      "******************************\n",
      "your choice: 2\n",
      "******************************\n",
      "names in the list\n",
      "******************************\n",
      "Sathvika\n",
      "Teju\n",
      "******************************\n",
      "******************************\n",
      "1.enter name:\n",
      "2.list the Names\n",
      "3.search for a name\n",
      "4.exit\n",
      "******************************\n",
      "your choice: 1\n",
      "name () added successfully : Sravani\n",
      "******************************\n",
      "1.enter name:\n",
      "2.list the Names\n",
      "3.search for a name\n",
      "4.exit\n",
      "******************************\n",
      "your choice: 2\n",
      "******************************\n",
      "names in the list\n",
      "******************************\n",
      "Sathvika\n",
      "Teju\n",
      "Sravani\n",
      "******************************\n",
      "******************************\n",
      "1.enter name:\n",
      "2.list the Names\n",
      "3.search for a name\n",
      "4.exit\n",
      "******************************\n",
      "your choice: 1\n",
      "name () added successfully : Hema\n",
      "******************************\n",
      "1.enter name:\n",
      "2.list the Names\n",
      "3.search for a name\n",
      "4.exit\n",
      "******************************\n",
      "your choice: 2\n",
      "******************************\n",
      "names in the list\n",
      "******************************\n",
      "Sathvika\n",
      "Teju\n",
      "Sravani\n",
      "Hema\n",
      "******************************\n",
      "******************************\n",
      "1.enter name:\n",
      "2.list the Names\n",
      "3.search for a name\n",
      "4.exit\n",
      "******************************\n"
     ]
    }
   ],
   "source": [
    "nameList = []\n",
    "\n",
    "def storename():\n",
    "    name = input(\"enter the name to be stored \")\n",
    "    name = name.strip().title()\n",
    "    nameList.append(name)\n",
    "    return name\n",
    "\n",
    "def listNames():\n",
    "    print(\"*\"*30)\n",
    "    print(\"names in the list\")\n",
    "    print(\"*\"*30)\n",
    "    for name in nameList:\n",
    "        print(name)\n",
    "    print(\"*\"*30)\n",
    "\n",
    "def searchName(search):\n",
    "    search = search.strip().title()\n",
    "    found = False\n",
    "    for name in nameList:\n",
    "        if name == search:\n",
    "            found = True\n",
    "            break\n",
    "    if found ==True:\n",
    "            print(\"Name exist in the list\")\n",
    "    else:\n",
    "        print(\"name doesnt exist\")\n",
    "\n",
    "def exit():\n",
    "    if choice ==4:\n",
    "        exit()\n",
    "\n",
    "print(\"*\"*30)\n",
    "print(\"Name Management - application\")\n",
    "print(\"*\"*30)\n",
    "while True:\n",
    "    print(\"*\"*30)\n",
    "    print(\"1.enter name:\")\n",
    "    print(\"2.list the Names\")\n",
    "    print(\"3.search for a name\")\n",
    "    print(\"4.exit\")\n",
    "    print(\"*\"*30)\n",
    "\n",
    "    choice = input(\"Enter your Choice :\")\n",
    "    print(\"your choice:\",choice)\n",
    "\n",
    "    if int(choice)==1:\n",
    "        name = storename()\n",
    "        print(\"name () added successfully :\",format(name))\n",
    "    elif int(choice) == 2:\n",
    "        listNames()\n",
    "    elif int(choice) == 3:\n",
    "        name = input(\"enter a name to be search\")\n",
    "        search(name)\n",
    "    elif int(choice) == 4:\n",
    "        exit()\n",
    "    else:\n",
    "        pass\n",
    "\n",
    "\n",
    "        \n",
    "\n",
    "\n"
   ]
  },
  {
   "cell_type": "code",
   "execution_count": 2,
   "metadata": {},
   "outputs": [
    {
     "data": {
      "text/plain": [
       "('Sadrfgf', '68536854', 'aqwsedrfgvcx5z325@gmail.com')"
      ]
     },
     "execution_count": 2,
     "metadata": {},
     "output_type": "execute_result"
    }
   ],
   "source": [
    "contactList = []\n",
    "\n",
    "\n",
    "def detailsList():\n",
    "    name = input(\"enter name\")\n",
    "    phno = input(\"enter contactno\")\n",
    "    mailid = input(\"enter the mailid\")\n",
    "    name = name.strip().title()\n",
    "    phno = phno.strip()\n",
    "    mailid = mailid.strip()\n",
    "    contactList.append(name)\n",
    "    contactList.append(phno)\n",
    "    contactList.append(mailid)\n",
    "    return name,phno,mailid\n",
    "\n",
    "detailsList()"
   ]
  },
  {
   "cell_type": "code",
   "execution_count": 3,
   "metadata": {},
   "outputs": [
    {
     "ename": "NameError",
     "evalue": "name 'searchList' is not defined",
     "output_type": "error",
     "traceback": [
      "\u001b[1;31m---------------------------------------------------------------------------\u001b[0m",
      "\u001b[1;31mNameError\u001b[0m                                 Traceback (most recent call last)",
      "\u001b[1;32mc:\\python git\\MscDSA-MDA171-23122029-RODDASATHVIKATEJA-1\\regular\\dictionaries.ipynb Cell 15\u001b[0m line \u001b[0;36m1\n\u001b[0;32m     <a href='vscode-notebook-cell:/c%3A/python%20git/MscDSA-MDA171-23122029-RODDASATHVIKATEJA-1/regular/dictionaries.ipynb#X20sZmlsZQ%3D%3D?line=9'>10</a>\u001b[0m         \u001b[39mprint\u001b[39m(mailid)\n\u001b[0;32m     <a href='vscode-notebook-cell:/c%3A/python%20git/MscDSA-MDA171-23122029-RODDASATHVIKATEJA-1/regular/dictionaries.ipynb#X20sZmlsZQ%3D%3D?line=10'>11</a>\u001b[0m     \u001b[39mprint\u001b[39m(\u001b[39m\"\u001b[39m\u001b[39m*\u001b[39m\u001b[39m\"\u001b[39m\u001b[39m*\u001b[39m\u001b[39m30\u001b[39m)\n\u001b[1;32m---> <a href='vscode-notebook-cell:/c%3A/python%20git/MscDSA-MDA171-23122029-RODDASATHVIKATEJA-1/regular/dictionaries.ipynb#X20sZmlsZQ%3D%3D?line=12'>13</a>\u001b[0m searchList()\n",
      "\u001b[1;31mNameError\u001b[0m: name 'searchList' is not defined"
     ]
    }
   ],
   "source": [
    "def searchlist():\n",
    "    print(\"*\"*30)\n",
    "    print(\"details in the list\")\n",
    "    print(\"*\"*30)\n",
    "    for name in detailsList:\n",
    "        print(name)\n",
    "    for phno in detailsList:\n",
    "        print(phno)\n",
    "    for mailid in detailsList:\n",
    "        print(mailid)\n",
    "    print(\"*\"*30)\n",
    "\n",
    "searchList()"
   ]
  },
  {
   "cell_type": "code",
   "execution_count": 9,
   "metadata": {},
   "outputs": [
    {
     "name": "stdout",
     "output_type": "stream",
     "text": [
      "0\n",
      "None\n"
     ]
    }
   ],
   "source": [
    "def orderid(n):\n",
    "    import random\n",
    "print(random.randint(0,6))\n",
    "print(orderid(5))"
   ]
  },
  {
   "cell_type": "code",
   "execution_count": 18,
   "metadata": {},
   "outputs": [
    {
     "name": "stdout",
     "output_type": "stream",
     "text": [
      "21254\n"
     ]
    }
   ],
   "source": [
    "def orderid():\n",
    "    import random\n",
    "r1=str(random.randint(0,6))\n",
    "r2=str(random.randint(0,6))\n",
    "r3=str(random.randint(0,6))\n",
    "r4=str(random.randint(0,6))\n",
    "r5=str(random.randint(0,6))\n",
    "orderid=r1+r2+r3+r4+r5\n",
    "print(orderid)\n",
    "\n"
   ]
  },
  {
   "cell_type": "code",
   "execution_count": null,
   "metadata": {},
   "outputs": [],
   "source": []
  },
  {
   "cell_type": "code",
   "execution_count": null,
   "metadata": {},
   "outputs": [],
   "source": []
  }
 ],
 "metadata": {
  "kernelspec": {
   "display_name": "Python 3",
   "language": "python",
   "name": "python3"
  },
  "language_info": {
   "codemirror_mode": {
    "name": "ipython",
    "version": 3
   },
   "file_extension": ".py",
   "mimetype": "text/x-python",
   "name": "python",
   "nbconvert_exporter": "python",
   "pygments_lexer": "ipython3",
   "version": "3.11.5"
  },
  "orig_nbformat": 4
 },
 "nbformat": 4,
 "nbformat_minor": 2
}
