{
 "cells": [
  {
   "cell_type": "markdown",
   "metadata": {},
   "source": [
    "Q1.\n",
    "1 load a csv,set new col names\n",
    "2 rename column names(1 column,multiple column)\n",
    "3 load a dataset,set one column as index column\n",
    "4 split your data into multiple files with repeat to rows and columns \n",
    "load the different file & merge them tto find file"
   ]
  },
  {
   "cell_type": "markdown",
   "metadata": {},
   "source": [
    "Q2\n",
    "write a python program with following specifications\n",
    "    there will be a function name create a data set which will take a dictionary,filename,and no of rows as arguments\n",
    "    the dictionary is having a following structure\n",
    "    {\n",
    "        \"colname\":[domain of values]\n",
    "        \"\n",
    "        \"\n",
    "    }\n",
    "    your function will select random values for each of the domains and create a row for you\n",
    "    the no.of rows that has to be created is a the paramter that has to be taken\n",
    "    save the file with the required no .of rows\n",
    "    load this datast using pandas and display basic information\n",
    "    (shapes,size,head,no.of rows,no of col)"
   ]
  },
  {
   "cell_type": "code",
   "execution_count": 2,
   "metadata": {},
   "outputs": [
    {
     "name": "stdout",
     "output_type": "stream",
     "text": [
      "Random value from name: sam\n",
      "Random value from uid: 2\n",
      "Random value from age: 23\n",
      "Random value from phno: 5645654\n"
     ]
    }
   ],
   "source": [
    "import pandas as pd\n",
    "import random\n",
    "\n",
    "def create_dataset(dictionary, filename, num_rows):\n",
    "    pass\n",
    "dict={\n",
    "    \"name\":[\"sam\",\"jonn\",\"Ram\",\"olive\"],\n",
    "    \"uid\":[1,2,3,4,5,6],\n",
    "    \"age\":[20,21,23,25],\n",
    "    \"phno\":[9569565221,756455654,5645654,5464761546]\n",
    "}\n",
    "\n",
    "create_dataset(dict,\"details.csv\",50)\n",
    "for key in dict:\n",
    "    random_value = random.choice(dict[key])\n",
    "    print(f\"Random value from {key}: {random_value}\")\n"
   ]
  },
  {
   "cell_type": "code",
   "execution_count": null,
   "metadata": {},
   "outputs": [],
   "source": []
  }
 ],
 "metadata": {
  "kernelspec": {
   "display_name": "Python 3",
   "language": "python",
   "name": "python3"
  },
  "language_info": {
   "codemirror_mode": {
    "name": "ipython",
    "version": 3
   },
   "file_extension": ".py",
   "mimetype": "text/x-python",
   "name": "python",
   "nbconvert_exporter": "python",
   "pygments_lexer": "ipython3",
   "version": "3.11.5"
  }
 },
 "nbformat": 4,
 "nbformat_minor": 2
}
