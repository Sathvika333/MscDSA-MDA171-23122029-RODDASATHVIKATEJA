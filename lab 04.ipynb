{
 "cells": [
  {
   "cell_type": "markdown",
   "metadata": {},
   "source": [
    "**LAB_04 - to store the orders in a file the restaurant gets from its customers**"
   ]
  },
  {
   "cell_type": "code",
   "execution_count": 4,
   "metadata": {},
   "outputs": [
    {
     "name": "stdout",
     "output_type": "stream",
     "text": [
      "Thank you for visiting Culinary Delights!!!\n",
      "******************************\n",
      "Dish name\t:\tbiryani\n",
      "\n",
      "Price of the dish\t:\t210\n",
      "\n",
      "Quantity of the dish\t:\t1\n",
      "\n",
      "Total Amount\t:\t210\n",
      "\n",
      "Name of the customer\t:\tsravani\n",
      "\n",
      "Phone number\t:\t870742059Dish name\t:\tegg rice\n",
      "\n",
      "cost of the dish\t:\t100\n",
      "\n",
      "Quantity of the dish\t:\t3\n",
      "\n",
      "Total Amount\t:\t300\n",
      "\n",
      "Name of the customer\t:\tteju\n",
      "\n",
      "Phone number\t:\t9515358738\n",
      "******************************\n"
     ]
    }
   ],
   "source": [
    "def resto(dish,cost,quantity,total,name,phone):\n",
    "    filemyResto = open(\"lab04.txt\",\"a+\")\n",
    "    filemyResto.write(\"Dish name\\t:\\t\"+dish)\n",
    "    filemyResto.write(\"\\ncost of the dish\\t:\\t\"+cost)\n",
    "    filemyResto.write(\"\\nQuantity of the dish\\t:\\t\"+quantity)\n",
    "    filemyResto.write(\"\\nTotal Amount\\t:\\t\"+total)\n",
    "    filemyResto.write(\"\\nName of the customer\\t:\\t\"+name)\n",
    "    filemyResto.write(\"\\nPhone number\\t:\\t\"+phone)\n",
    "    filemyResto.close()\n",
    "    return True\n",
    "\n",
    "dish = input(\"Enter the dish ordered: \")\n",
    "cost = input(\"cost of the dish is: \")\n",
    "quantity = input(\"Quantity of that dish ordered: \")\n",
    "total = input(\"Total amount of the customer: \")\n",
    "name = input(\"Enter the name of the customer: \")\n",
    "phone = input(\"Enter the phone number of the customer: \")\n",
    "rmss = resto(dish,cost,quantity,total,name,phone,)\n",
    "\n",
    "if rmss:\n",
    "    print(\"Thank you for visiting Culinary Delights!!!\")\n",
    "    print(\"*\"*30)\n",
    "    for line in open(\"lab04.txt\",\"r+\").readlines():\n",
    "        print(line)\n",
    "    print(\"*\"*30)\n",
    "else:\n",
    "    print(\"Some error occured\")"
   ]
  },
  {
   "cell_type": "markdown",
   "metadata": {},
   "source": []
  }
 ],
 "metadata": {
  "kernelspec": {
   "display_name": "Python 3",
   "language": "python",
   "name": "python3"
  },
  "language_info": {
   "codemirror_mode": {
    "name": "ipython",
    "version": 3
   },
   "file_extension": ".py",
   "mimetype": "text/x-python",
   "name": "python",
   "nbconvert_exporter": "python",
   "pygments_lexer": "ipython3",
   "version": "3.11.2"
  },
  "orig_nbformat": 4
 },
 "nbformat": 4,
 "nbformat_minor": 2
}
